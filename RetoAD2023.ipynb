{
 "cells": [
  {
   "cell_type": "code",
   "execution_count": null,
   "metadata": {},
   "outputs": [],
   "source": [
    "# Importamos las clases que se requieren para manejar los agentes (Agent) y su entorno (Model).\n",
    "# Cada modelo puede contener múltiples agentes.\n",
    "from mesa import Agent, Model \n",
    "\n",
    "# Debido a que necesitamos que existe un solo agente por celda, elegimos ''SingleGrid''.\n",
    "from mesa.space import MultiGrid\n",
    "\n",
    "# Con ''RandomActivation'', hacemos que todos los agentes se activen ''al mismo tiempo''.\n",
    "from mesa.time import RandomActivation\n",
    "\n",
    "# Haremos uso de ''DataCollector'' para obtener información de cada paso de la simulación.\n",
    "from mesa.datacollection import DataCollector\n",
    "\n",
    "# matplotlib lo usaremos crear una animación de cada uno de los pasos del modelo.\n",
    "%matplotlib inline\n",
    "import matplotlib\n",
    "import matplotlib.pyplot as plt\n",
    "import matplotlib.animation as animation\n",
    "plt.rcParams[\"animation.html\"] = \"jshtml\"\n",
    "matplotlib.rcParams['animation.embed_limit'] = 2**128\n",
    "\n",
    "# Importamos los siguientes paquetes para el mejor manejo de valores numéricos.\n",
    "import numpy as np\n",
    "import pandas as pd\n",
    "\n",
    "# Definimos otros paquetes que vamos a usar para medir el tiempo de ejecución de nuestro algoritmo.\n",
    "import time\n",
    "import datetime\n",
    "\n",
    "#Importamos random para obtener coordenadas al azar\n",
    "import random\n",
    "\n",
    "#TYPES\n",
    "#Type 1 Food\n",
    "#Type 2 deposit "
   ]
  },
  {
   "cell_type": "code",
   "execution_count": null,
   "metadata": {},
   "outputs": [],
   "source": [
    "class Agent(Agent):\n",
    "    def __init__(self, id, model):\n",
    "        super().__init__(id, model)\n",
    "        self.type\n",
    "        self.has_food\n",
    "        self.deposit_coordinates\n",
    "        self.id\n",
    "    \n",
    "    def Update_Desposit_Coordinates():\n",
    "        \n",
    "    def MoveTodeposit():\n",
    "        \n",
    "    def UpdateFood():\n",
    "\n",
    "    def MoveToFood():\n",
    "\n"
   ]
  },
  {
   "cell_type": "code",
   "execution_count": null,
   "metadata": {},
   "outputs": [],
   "source": [
    "#En get_grid obtenemos los contenidos de nuestra celda y seteamos valores numéricos\n",
    "#para después setear los colores en el grid\n",
    "\n",
    "def get_grid(model):\n",
    "    grid = np.zeros((model.grid.width, model.grid.height), dtype=int)\n",
    "    \n",
    "    for (content, (x, y)) in model.grid.coord_iter():\n",
    "\n",
    "        if content:\n",
    "            grid[x][y] = 3   #Agent\n",
    "\n",
    "        elif model.get_type(x, y) == 1: \n",
    "            grid[x][y] = 1  #Food\n",
    "\n",
    "        elif model.get_type(x, y) == 2: \n",
    "            grid[x][y] = 2  #Deposit\n",
    "        \n",
    "        else:\n",
    "            grid[x][y] = 0  # Empty cell\n",
    "\n",
    "    return grid\n"
   ]
  },
  {
   "cell_type": "code",
   "execution_count": 1,
   "metadata": {},
   "outputs": [
    {
     "ename": "SyntaxError",
     "evalue": "incomplete input (792186190.py, line 2)",
     "output_type": "error",
     "traceback": [
      "\u001b[1;36m  Cell \u001b[1;32mIn[1], line 2\u001b[1;36m\u001b[0m\n\u001b[1;33m    \u001b[0m\n\u001b[1;37m    ^\u001b[0m\n\u001b[1;31mSyntaxError\u001b[0m\u001b[1;31m:\u001b[0m incomplete input\n"
     ]
    }
   ],
   "source": [
    "class FoodModel(Model):\n",
    "    def __init__ (self, width, height, num_agents, num_food):\n",
    "        self.num_agents = num_agents\n",
    "        self.grid = MultiGrid(width, height, torus = False)\n",
    "        self.schedule = RandomActivation(self)\n",
    "        self.datacollector = DataCollector(model_reporters={\"Grid\": get_grid})  \n",
    "        self.type = np.zeros((width, height))\n",
    "        self.deposit = 0\n",
    "\n",
    "        self.food_quantity = num_food\n",
    "\n",
    "        #Add random deposit coordinates\n",
    "        x, y = random.randrange(self.grid.width), random.randrange(self.grid.height)\n",
    "        if self.grid.is_cell_empty((x, y)):\n",
    "                self.type[x][y] = 1\n",
    "\n",
    "        for i in range(num_food):\n",
    "            x, y = random.randrange(self.grid.width), random.randrange(self.grid.height)\n",
    "            if self.grid.is_cell_empty((x, y)):\n",
    "                self.dirty[x][y] = 1\n",
    "             \n",
    "    #def step(self):\n",
    "\n",
    "    def get_type(self, x,y):\n",
    "        return self.type[x][y]\n",
    "    \n",
    "    def update_deposit(self):\n",
    "        self.deposit += 1\n",
    "        \n",
    "    def generate_food(self):\n",
    "         for i in range(self.food_quantity):\n",
    "            x, y = random.randrange(self.grid.width), random.randrange(self.grid.height)\n",
    "            if self.grid.is_cell_empty((x, y)):\n",
    "                self.dirty[x][y] = 1\n"
   ]
  },
  {
   "cell_type": "code",
   "execution_count": null,
   "metadata": {},
   "outputs": [],
   "source": [
    "WIDTH = 100\n",
    "HEIGHT = 100\n",
    "NUM_AGENTS = 5\n",
    "NUM_FOOD = 47\n",
    "# Definimos el número máximo de steps a correr\n",
    "MAX_STEPS = 1500\n",
    "\n",
    "# Registramos el tiempo de inicio y ejecutamos la simulación\n",
    "start_time = time.time()\n",
    "\n",
    "model = FoodModel(WIDTH, HEIGHT, NUM_AGENTS, NUM_FOOD)\n",
    "\n",
    "for i in range(MAX_STEPS):\n",
    "    model.step()\n",
    "\n",
    "# Imprimimos el tiempo que le tomó correr al modelo.\n",
    "\n",
    "print('Tiempo de ejecución:', str(datetime.timedelta(seconds=(time.time() - start_time))))"
   ]
  },
  {
   "cell_type": "code",
   "execution_count": null,
   "metadata": {},
   "outputs": [],
   "source": [
    "#Recolectamos los datos del grid \n",
    "all_grid = model.datacollector.get_model_vars_dataframe()"
   ]
  },
  {
   "cell_type": "code",
   "execution_count": null,
   "metadata": {},
   "outputs": [],
   "source": [
    "\n",
    "fig, axs = plt.subplots(figsize=(7, 7))\n",
    "axs.set_xticks([])\n",
    "axs.set_yticks([])\n",
    "\n",
    "# Definimos el color para la distinguir agentes, y celdas sucias\n",
    "#el numero que seteamos anteriormente corresponde al valor del array\n",
    "#de colores que queremos que se muestre \n",
    "cmap = plt.cm.colors.ListedColormap(['white', 'red', 'blue', 'green'])\n",
    "\n",
    "patch = plt.imshow(all_grid.iloc[0][0], cmap=cmap, vmin=0, vmax=3)\n",
    "\n",
    "def animate(i):\n",
    "    patch.set_data(all_grid.iloc[i][0])\n",
    "    patch.set_clim(vmin=0, vmax=2)  #establecemos los limites del color\n",
    "\n",
    "anim = animation.FuncAnimation(fig, animate, frames=MAX_STEPS)"
   ]
  }
 ],
 "metadata": {
  "kernelspec": {
   "display_name": "Python 3",
   "language": "python",
   "name": "python3"
  },
  "language_info": {
   "codemirror_mode": {
    "name": "ipython",
    "version": 3
   },
   "file_extension": ".py",
   "mimetype": "text/x-python",
   "name": "python",
   "nbconvert_exporter": "python",
   "pygments_lexer": "ipython3",
   "version": "3.12.0"
  }
 },
 "nbformat": 4,
 "nbformat_minor": 2
}
